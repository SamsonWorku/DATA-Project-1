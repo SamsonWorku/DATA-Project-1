{
 "cells": [
  {
   "cell_type": "markdown",
   "metadata": {},
   "source": [
    "# Read JSON Format Data\n",
    "\n",
    "JSoN stands for JavaScript Object Notation (although it is not JavaScript!), and is a data format similar to Python dictionaries."
   ]
  },
  {
   "cell_type": "markdown",
   "metadata": {},
   "source": [
    "### Creating JSON Data"
   ]
  },
  {
   "cell_type": "markdown",
   "metadata": {},
   "source": [
    "## NBA JSON Data\n",
    "\n",
    "Data collected from Sports Reference LLC that has NBA games played from 1985-2013.\n",
    "\n",
    "Data source: https://data.mendeley.com/datasets/ct8f9skv97/1"
   ]
  },
  {
   "cell_type": "code",
   "execution_count": 1,
   "metadata": {},
   "outputs": [],
   "source": [
    "import pandas as pd\n",
    "import json"
   ]
  },
  {
   "cell_type": "code",
   "execution_count": 2,
   "metadata": {},
   "outputs": [],
   "source": [
    "filepath = \"../datasets/MoCoViolations_2018.json\""
   ]
  },
  {
   "cell_type": "code",
   "execution_count": 3,
   "metadata": {},
   "outputs": [],
   "source": [
    "with open(filepath) as file:\n",
    "    data=json.load(file)"
   ]
  },
  {
   "cell_type": "code",
   "execution_count": 4,
   "metadata": {},
   "outputs": [],
   "source": [
    "#verify that this is a list type\n",
    "type(data)\n",
    "violations = data['data']"
   ]
  },
  {
   "cell_type": "code",
   "execution_count": 6,
   "metadata": {},
   "outputs": [
    {
     "data": {
      "text/plain": [
       "218273"
      ]
     },
     "execution_count": 6,
     "metadata": {},
     "output_type": "execute_result"
    }
   ],
   "source": [
    "#check number of items in data list\n",
    "#this is the total number of games in dataset\n",
    "len(violations)"
   ]
  },
  {
   "cell_type": "code",
   "execution_count": 7,
   "metadata": {},
   "outputs": [
    {
     "data": {
      "text/plain": [
       "list"
      ]
     },
     "execution_count": 7,
     "metadata": {},
     "output_type": "execute_result"
    }
   ],
   "source": [
    "type(violations)"
   ]
  },
  {
   "cell_type": "markdown",
   "metadata": {},
   "source": [
    "#### Verify values within the data structure"
   ]
  },
  {
   "cell_type": "code",
   "execution_count": 9,
   "metadata": {},
   "outputs": [
    {
     "data": {
      "text/plain": [
       "['row-tb2z_it96-ased',\n",
       " '00000000-0000-0000-D6FB-B97187EB8E43',\n",
       " 0,\n",
       " 1554316021,\n",
       " None,\n",
       " 1554317159,\n",
       " None,\n",
       " '{ }',\n",
       " 'dcf9f7e6-9001-4ac9-b657-94a3cd8b29b8',\n",
       " '2018-12-31T00:00:00',\n",
       " '23:56:00',\n",
       " 'MCP',\n",
       " '1st District, Rockville',\n",
       " 'FAILURE OF VEH. ON HWY. TO DISPLAY LIGHTED LAMPS, ILLUMINATING DEVICE IN UNFAVORABLE VISIBILITY COND',\n",
       " '355 @ FIRST ST',\n",
       " '39.07792',\n",
       " '-77.1404116666667',\n",
       " 'No',\n",
       " 'No',\n",
       " 'No',\n",
       " 'No',\n",
       " 'No',\n",
       " 'Yes',\n",
       " 'No',\n",
       " 'No',\n",
       " 'No',\n",
       " 'No',\n",
       " 'MD',\n",
       " '02 - Automobile',\n",
       " '2007',\n",
       " 'TOYOTA',\n",
       " 'COROLLA',\n",
       " 'BLUE',\n",
       " 'Warning',\n",
       " '22-201.1',\n",
       " 'Transportation Article',\n",
       " 'false',\n",
       " 'BLACK',\n",
       " 'M',\n",
       " 'GERMANTOWN',\n",
       " 'MD',\n",
       " 'MD',\n",
       " 'A - Marked Patrol',\n",
       " [None, '39.07792', '-77.140411666667', None, False, None],\n",
       " '3',\n",
       " '3',\n",
       " '25',\n",
       " '60',\n",
       " '12']"
      ]
     },
     "execution_count": 9,
     "metadata": {},
     "output_type": "execute_result"
    }
   ],
   "source": [
    "#each index level is a basketball game\n",
    "violations[0]"
   ]
  },
  {
   "cell_type": "code",
   "execution_count": 10,
   "metadata": {},
   "outputs": [],
   "source": [
    "DateofStop= []\n",
    "TimeofStop= []\n",
    "Agency= []\n",
    "Subagency= []\n",
    "Description= []\n",
    "Location= []\n",
    "Latitude= []\n",
    "Longitude= []\n",
    "VehicleType= []\n",
    "VehicleYear= []\n",
    "VehicleMake= []\n",
    "VehicleModel= []\n",
    "VehicleColor= []\n",
    "ViolationType= []\n",
    "Race= []\n",
    "Gender= []\n",
    "DriverState= []\n",
    "DriverLicenseState= []\n",
    "ArrestType= []"
   ]
  },
  {
   "cell_type": "code",
   "execution_count": 11,
   "metadata": {},
   "outputs": [],
   "source": [
    "violations = data['data']"
   ]
  },
  {
   "cell_type": "code",
   "execution_count": 12,
   "metadata": {},
   "outputs": [],
   "source": [
    "for violation in violations:\n",
    "    DateofStop.append(violation[9])\n",
    "    TimeofStop.append(violation[10])\n",
    "    Agency.append(violation[11])\n",
    "    Subagency.append(violation[12])\n",
    "    Description.append(violation[13])\n",
    "    Location.append(violation[14])\n",
    "    Latitude.append(violation[15])\n",
    "    Longitude.append(violation[16])\n",
    "    VehicleType.append(violation[28])\n",
    "    VehicleYear.append(violation[29])\n",
    "    VehicleMake.append(violation[30])\n",
    "    VehicleModel.append(violation[31])\n",
    "    VehicleColor.append(violation[32])\n",
    "    ViolationType.append(violation[33])\n",
    "    Race.append(violation[37])\n",
    "    Gender.append(violation[38])\n",
    "    DriverState.append(violation[40])\n",
    "    DriverLicenseState.append(violation[41])\n",
    "    ArrestType.append(violation[42])"
   ]
  },
  {
   "cell_type": "code",
   "execution_count": 13,
   "metadata": {},
   "outputs": [
    {
     "data": {
      "text/plain": [
       "218273"
      ]
     },
     "execution_count": 13,
     "metadata": {},
     "output_type": "execute_result"
    }
   ],
   "source": [
    "len(violations)"
   ]
  },
  {
   "cell_type": "code",
   "execution_count": 14,
   "metadata": {},
   "outputs": [
    {
     "name": "stdout",
     "output_type": "stream",
     "text": [
      "218273\n",
      "218273\n",
      "218273\n",
      "218273\n",
      "218273\n",
      "218273\n",
      "218273\n",
      "218273\n",
      "218273\n",
      "218273\n",
      "218273\n",
      "218273\n",
      "218273\n",
      "218273\n",
      "218273\n",
      "218273\n",
      "218273\n",
      "218273\n",
      "218273\n"
     ]
    }
   ],
   "source": [
    "print(len(DateofStop)) #date of game\n",
    "print(len(TimeofStop)) #city abbreviation\n",
    "print(len(Agency)) #name of city\n",
    "print(len(Subagency))  #T/F if home game\n",
    "print(len(Description)) #team name\n",
    "print(len(Location)) #list of players that played in the game\n",
    "print(len(Latitude))  #final score for game\n",
    "print(len(Longitude))  #0/1\n",
    "print(len(VehicleType)) #date of game\n",
    "print(len(VehicleYear)) #city abbreviation\n",
    "print(len(VehicleMake)) #name of city\n",
    "print(len(VehicleModel))  #T/F if home game\n",
    "print(len(VehicleColor)) #team name\n",
    "print(len(ViolationType)) #list of players that played in the game\n",
    "print(len(Race))\n",
    "print(len(Gender))  #final score for game\n",
    "print(len(DriverState))  #0/1\n",
    "print(len(DriverLicenseState))  #final score for game\n",
    "print(len(ArrestType))\n"
   ]
  },
  {
   "cell_type": "markdown",
   "metadata": {},
   "source": [
    "#### Make gathered information into dataframe"
   ]
  },
  {
   "cell_type": "code",
   "execution_count": 15,
   "metadata": {},
   "outputs": [],
   "source": [
    "#zip lists together into one list\n",
    "#will put in order I want my columns to be\n",
    "violationList = list(zip(DateofStop, TimeofStop, Agency, Subagency, Description, Location, Latitude, Longitude, VehicleType, VehicleYear, VehicleMake, VehicleModel, VehicleColor, ViolationType, Race, Gender, DriverState, DriverLicenseState, ArrestType))\n",
    "\n",
    "#make list of column names\n",
    "names = ['Date of Stop','Time of Stop', 'Agency', 'Subagency', 'Description', 'Location', 'Latitude', 'Longitude', 'Vehicle Type', 'Vehicle Year', 'Vehicle Make', 'Vehicle Model', 'Vehicle Color', 'Violation Type', 'Race', 'Gender', \"Driver's State\", \"Driver's License State\", 'ArrestType']\n",
    "\n",
    "#TimeofStop, Agency, Subagency, Description, Location, Latitude, Longitude, VehicleType, VehicleYear, VehicleMake, VehicleModel, VehicleColor, ViolationType, Race, Gender, DriverState, DriverLicenseState, ArrestType"
   ]
  },
  {
   "cell_type": "markdown",
   "metadata": {},
   "source": [
    "#make the dataframe\n",
    "df = pd.DataFrame(violation, columns=names)\n",
    "\n",
    "df.head()"
   ]
  },
  {
   "cell_type": "code",
   "execution_count": 16,
   "metadata": {},
   "outputs": [
    {
     "data": {
      "text/html": [
       "<div>\n",
       "<style scoped>\n",
       "    .dataframe tbody tr th:only-of-type {\n",
       "        vertical-align: middle;\n",
       "    }\n",
       "\n",
       "    .dataframe tbody tr th {\n",
       "        vertical-align: top;\n",
       "    }\n",
       "\n",
       "    .dataframe thead th {\n",
       "        text-align: right;\n",
       "    }\n",
       "</style>\n",
       "<table border=\"1\" class=\"dataframe\">\n",
       "  <thead>\n",
       "    <tr style=\"text-align: right;\">\n",
       "      <th></th>\n",
       "      <th>Date of Stop</th>\n",
       "      <th>Time of Stop</th>\n",
       "      <th>Agency</th>\n",
       "      <th>Subagency</th>\n",
       "      <th>Description</th>\n",
       "      <th>Location</th>\n",
       "      <th>Latitude</th>\n",
       "      <th>Longitude</th>\n",
       "      <th>Vehicle Type</th>\n",
       "      <th>Vehicle Year</th>\n",
       "      <th>Vehicle Make</th>\n",
       "      <th>Vehicle Model</th>\n",
       "      <th>Vehicle Color</th>\n",
       "      <th>Violation Type</th>\n",
       "      <th>Race</th>\n",
       "      <th>Gender</th>\n",
       "      <th>Driver's State</th>\n",
       "      <th>Driver's License State</th>\n",
       "      <th>ArrestType</th>\n",
       "    </tr>\n",
       "  </thead>\n",
       "  <tbody>\n",
       "    <tr>\n",
       "      <th>0</th>\n",
       "      <td>2018-12-31T00:00:00</td>\n",
       "      <td>23:56:00</td>\n",
       "      <td>MCP</td>\n",
       "      <td>1st District, Rockville</td>\n",
       "      <td>FAILURE OF VEH. ON HWY. TO DISPLAY LIGHTED LAM...</td>\n",
       "      <td>355 @ FIRST ST</td>\n",
       "      <td>39.07792</td>\n",
       "      <td>-77.1404116666667</td>\n",
       "      <td>02 - Automobile</td>\n",
       "      <td>2007</td>\n",
       "      <td>TOYOTA</td>\n",
       "      <td>COROLLA</td>\n",
       "      <td>BLUE</td>\n",
       "      <td>Warning</td>\n",
       "      <td>BLACK</td>\n",
       "      <td>M</td>\n",
       "      <td>MD</td>\n",
       "      <td>MD</td>\n",
       "      <td>A - Marked Patrol</td>\n",
       "    </tr>\n",
       "    <tr>\n",
       "      <th>1</th>\n",
       "      <td>2018-12-31T00:00:00</td>\n",
       "      <td>23:52:00</td>\n",
       "      <td>MCP</td>\n",
       "      <td>6th District, Gaithersburg / Montgomery Village</td>\n",
       "      <td>FAILURE TO DISPLAY TWO LIGHTED FRONT LAMPS WHE...</td>\n",
       "      <td>N FREDERICK AVE @ ODENDHAL AVE</td>\n",
       "      <td>39.1486766666667</td>\n",
       "      <td>-77.2063433333333</td>\n",
       "      <td>02 - Automobile</td>\n",
       "      <td>2006</td>\n",
       "      <td>LEXUS</td>\n",
       "      <td>4S</td>\n",
       "      <td>GRAY</td>\n",
       "      <td>Warning</td>\n",
       "      <td>HISPANIC</td>\n",
       "      <td>M</td>\n",
       "      <td>MD</td>\n",
       "      <td>MD</td>\n",
       "      <td>A - Marked Patrol</td>\n",
       "    </tr>\n",
       "    <tr>\n",
       "      <th>2</th>\n",
       "      <td>2018-12-31T00:00:00</td>\n",
       "      <td>23:52:00</td>\n",
       "      <td>MCP</td>\n",
       "      <td>6th District, Gaithersburg / Montgomery Village</td>\n",
       "      <td>FAILURE OF VEH. ON HWY. TO DISPLAY LIGHTED LAM...</td>\n",
       "      <td>N FREDERICK AVE @ ODENDHAL AVE</td>\n",
       "      <td>39.1486766666667</td>\n",
       "      <td>-77.2063433333333</td>\n",
       "      <td>02 - Automobile</td>\n",
       "      <td>2006</td>\n",
       "      <td>LEXUS</td>\n",
       "      <td>4S</td>\n",
       "      <td>GRAY</td>\n",
       "      <td>Warning</td>\n",
       "      <td>HISPANIC</td>\n",
       "      <td>M</td>\n",
       "      <td>MD</td>\n",
       "      <td>MD</td>\n",
       "      <td>A - Marked Patrol</td>\n",
       "    </tr>\n",
       "    <tr>\n",
       "      <th>3</th>\n",
       "      <td>2018-12-31T00:00:00</td>\n",
       "      <td>23:45:00</td>\n",
       "      <td>MCP</td>\n",
       "      <td>1st District, Rockville</td>\n",
       "      <td>FAILURE OF VEH. ON HWY. TO DISPLAY LIGHTED LAM...</td>\n",
       "      <td>355 @ BEAL</td>\n",
       "      <td>39.08545</td>\n",
       "      <td>-77.1451033333333</td>\n",
       "      <td>02 - Automobile</td>\n",
       "      <td>2017</td>\n",
       "      <td>TOYOTA</td>\n",
       "      <td>COROLLA</td>\n",
       "      <td>GRAY</td>\n",
       "      <td>Warning</td>\n",
       "      <td>WHITE</td>\n",
       "      <td>F</td>\n",
       "      <td>MD</td>\n",
       "      <td>MD</td>\n",
       "      <td>A - Marked Patrol</td>\n",
       "    </tr>\n",
       "    <tr>\n",
       "      <th>4</th>\n",
       "      <td>2018-12-31T00:00:00</td>\n",
       "      <td>23:44:00</td>\n",
       "      <td>MCP</td>\n",
       "      <td>Headquarters and Special Operations</td>\n",
       "      <td>FAILURE TO DRIVE VEHICLE ON RIGHT HALF OF ROAD...</td>\n",
       "      <td>FENTON ST @ COLESVILLE RD</td>\n",
       "      <td>38.997515</td>\n",
       "      <td>-77.0267766666667</td>\n",
       "      <td>02 - Automobile</td>\n",
       "      <td>2016</td>\n",
       "      <td>CHEVROLET</td>\n",
       "      <td>IMPALA</td>\n",
       "      <td>BLACK</td>\n",
       "      <td>Warning</td>\n",
       "      <td>BLACK</td>\n",
       "      <td>M</td>\n",
       "      <td>VA</td>\n",
       "      <td>VA</td>\n",
       "      <td>A - Marked Patrol</td>\n",
       "    </tr>\n",
       "  </tbody>\n",
       "</table>\n",
       "</div>"
      ],
      "text/plain": [
       "          Date of Stop Time of Stop Agency  \\\n",
       "0  2018-12-31T00:00:00     23:56:00    MCP   \n",
       "1  2018-12-31T00:00:00     23:52:00    MCP   \n",
       "2  2018-12-31T00:00:00     23:52:00    MCP   \n",
       "3  2018-12-31T00:00:00     23:45:00    MCP   \n",
       "4  2018-12-31T00:00:00     23:44:00    MCP   \n",
       "\n",
       "                                         Subagency  \\\n",
       "0                          1st District, Rockville   \n",
       "1  6th District, Gaithersburg / Montgomery Village   \n",
       "2  6th District, Gaithersburg / Montgomery Village   \n",
       "3                          1st District, Rockville   \n",
       "4              Headquarters and Special Operations   \n",
       "\n",
       "                                         Description  \\\n",
       "0  FAILURE OF VEH. ON HWY. TO DISPLAY LIGHTED LAM...   \n",
       "1  FAILURE TO DISPLAY TWO LIGHTED FRONT LAMPS WHE...   \n",
       "2  FAILURE OF VEH. ON HWY. TO DISPLAY LIGHTED LAM...   \n",
       "3  FAILURE OF VEH. ON HWY. TO DISPLAY LIGHTED LAM...   \n",
       "4  FAILURE TO DRIVE VEHICLE ON RIGHT HALF OF ROAD...   \n",
       "\n",
       "                         Location          Latitude          Longitude  \\\n",
       "0                  355 @ FIRST ST          39.07792  -77.1404116666667   \n",
       "1  N FREDERICK AVE @ ODENDHAL AVE  39.1486766666667  -77.2063433333333   \n",
       "2  N FREDERICK AVE @ ODENDHAL AVE  39.1486766666667  -77.2063433333333   \n",
       "3                      355 @ BEAL          39.08545  -77.1451033333333   \n",
       "4       FENTON ST @ COLESVILLE RD         38.997515  -77.0267766666667   \n",
       "\n",
       "      Vehicle Type Vehicle Year Vehicle Make Vehicle Model Vehicle Color  \\\n",
       "0  02 - Automobile         2007       TOYOTA       COROLLA          BLUE   \n",
       "1  02 - Automobile         2006        LEXUS            4S          GRAY   \n",
       "2  02 - Automobile         2006        LEXUS            4S          GRAY   \n",
       "3  02 - Automobile         2017       TOYOTA       COROLLA          GRAY   \n",
       "4  02 - Automobile         2016    CHEVROLET        IMPALA         BLACK   \n",
       "\n",
       "  Violation Type      Race Gender Driver's State Driver's License State  \\\n",
       "0        Warning     BLACK      M             MD                     MD   \n",
       "1        Warning  HISPANIC      M             MD                     MD   \n",
       "2        Warning  HISPANIC      M             MD                     MD   \n",
       "3        Warning     WHITE      F             MD                     MD   \n",
       "4        Warning     BLACK      M             VA                     VA   \n",
       "\n",
       "          ArrestType  \n",
       "0  A - Marked Patrol  \n",
       "1  A - Marked Patrol  \n",
       "2  A - Marked Patrol  \n",
       "3  A - Marked Patrol  \n",
       "4  A - Marked Patrol  "
      ]
     },
     "execution_count": 16,
     "metadata": {},
     "output_type": "execute_result"
    }
   ],
   "source": [
    "#make the dataframe\n",
    "df = pd.DataFrame(violationList, columns=names)\n",
    "\n",
    "df.head()"
   ]
  },
  {
   "cell_type": "code",
   "execution_count": null,
   "metadata": {},
   "outputs": [],
   "source": []
  }
 ],
 "metadata": {
  "kernelspec": {
   "display_name": "Python 3",
   "language": "python",
   "name": "python3"
  },
  "language_info": {
   "codemirror_mode": {
    "name": "ipython",
    "version": 3
   },
   "file_extension": ".py",
   "mimetype": "text/x-python",
   "name": "python",
   "nbconvert_exporter": "python",
   "pygments_lexer": "ipython3",
   "version": "3.7.1"
  }
 },
 "nbformat": 4,
 "nbformat_minor": 2
}
