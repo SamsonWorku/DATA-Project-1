{
 "cells": [
  {
   "cell_type": "code",
   "execution_count": 1,
   "metadata": {
    "collapsed": true
   },
   "outputs": [],
   "source": [
    "import pandas as pd\n",
    "import numpy as np\n",
    "import matplotlib.pyplot as plt\n",
    "# These are the plotting modules adn libraries we'll use:\n",
    "import matplotlib as mpl\n",
    "import seaborn as sns\n",
    "\n",
    "# The normal imports\n",
    "from numpy.random import randn\n",
    "\n",
    "# Import the stats librayr from numpy\n",
    "from scipy import stats\n",
    "from sklearn.naive_bayes import GaussianNB\n",
    "\n",
    "# Command so that plots appear in the iPython Notebook\n",
    "%matplotlib inline\n",
    "\n",
    "#train = pd.read_excel('../dtasets/OULAD.xlsx')   # better be in the correct directory!\n",
    "#test = pd.read_excel('../dtasets/OULAD.xlsxv')\n",
    "#test.head(5)"
   ]
  },
  {
   "cell_type": "code",
   "execution_count": 2,
   "metadata": {
    "collapsed": true
   },
   "outputs": [],
   "source": [
    "import pandas as pd\n",
    "import numpy as np\n",
    "import matplotlib.pyplot as plt\n",
    "import seaborn as sns\n",
    "\n",
    "%matplotlib inline\n",
    "\n",
    "from sklearn import tree\n",
    "from sklearn.model_selection import train_test_split\n",
    "from sklearn.metrics import confusion_matrix\n",
    "from sklearn.metrics import accuracy_score"
   ]
  },
  {
   "cell_type": "code",
   "execution_count": 3,
   "metadata": {},
   "outputs": [
    {
     "data": {
      "text/html": [
       "<div>\n",
       "<style>\n",
       "    .dataframe thead tr:only-child th {\n",
       "        text-align: right;\n",
       "    }\n",
       "\n",
       "    .dataframe thead th {\n",
       "        text-align: left;\n",
       "    }\n",
       "\n",
       "    .dataframe tbody tr th {\n",
       "        vertical-align: top;\n",
       "    }\n",
       "</style>\n",
       "<table border=\"1\" class=\"dataframe\">\n",
       "  <thead>\n",
       "    <tr style=\"text-align: right;\">\n",
       "      <th></th>\n",
       "      <th>id_student</th>\n",
       "      <th>Unnamed: 1</th>\n",
       "      <th>id_assessment</th>\n",
       "      <th>id_student.1</th>\n",
       "      <th>date_submitted</th>\n",
       "      <th>is_banked</th>\n",
       "      <th>score</th>\n",
       "      <th>assessment_type</th>\n",
       "      <th>date</th>\n",
       "      <th>weight</th>\n",
       "      <th>id_course</th>\n",
       "    </tr>\n",
       "  </thead>\n",
       "  <tbody>\n",
       "    <tr>\n",
       "      <th>0</th>\n",
       "      <td>6516.0</td>\n",
       "      <td>1756</td>\n",
       "      <td>1758</td>\n",
       "      <td>6516</td>\n",
       "      <td>17</td>\n",
       "      <td>0</td>\n",
       "      <td>60</td>\n",
       "      <td>TMA</td>\n",
       "      <td>19</td>\n",
       "      <td>10.0</td>\n",
       "      <td>AAA-2014J</td>\n",
       "    </tr>\n",
       "    <tr>\n",
       "      <th>1</th>\n",
       "      <td>8462.0</td>\n",
       "      <td>88494</td>\n",
       "      <td>25362</td>\n",
       "      <td>8462</td>\n",
       "      <td>-1</td>\n",
       "      <td>1</td>\n",
       "      <td>93</td>\n",
       "      <td>TMA</td>\n",
       "      <td>20</td>\n",
       "      <td>5.0</td>\n",
       "      <td>DDD-2014J</td>\n",
       "    </tr>\n",
       "    <tr>\n",
       "      <th>2</th>\n",
       "      <td>11391.0</td>\n",
       "      <td>0</td>\n",
       "      <td>1752</td>\n",
       "      <td>11391</td>\n",
       "      <td>18</td>\n",
       "      <td>0</td>\n",
       "      <td>78</td>\n",
       "      <td>TMA</td>\n",
       "      <td>19</td>\n",
       "      <td>10.0</td>\n",
       "      <td>AAA-2013J</td>\n",
       "    </tr>\n",
       "    <tr>\n",
       "      <th>3</th>\n",
       "      <td>23629.0</td>\n",
       "      <td>3285</td>\n",
       "      <td>14984</td>\n",
       "      <td>23629</td>\n",
       "      <td>9</td>\n",
       "      <td>0</td>\n",
       "      <td>67</td>\n",
       "      <td>TMA</td>\n",
       "      <td>19</td>\n",
       "      <td>5.0</td>\n",
       "      <td>BBB-2013B</td>\n",
       "    </tr>\n",
       "    <tr>\n",
       "      <th>4</th>\n",
       "      <td>23698.0</td>\n",
       "      <td>58648</td>\n",
       "      <td>24295</td>\n",
       "      <td>23698</td>\n",
       "      <td>21</td>\n",
       "      <td>0</td>\n",
       "      <td>78</td>\n",
       "      <td>CMA</td>\n",
       "      <td>18</td>\n",
       "      <td>2.0</td>\n",
       "      <td>CCC-2014J</td>\n",
       "    </tr>\n",
       "  </tbody>\n",
       "</table>\n",
       "</div>"
      ],
      "text/plain": [
       "   id_student  Unnamed: 1  id_assessment  id_student.1  date_submitted  \\\n",
       "0      6516.0        1756           1758          6516              17   \n",
       "1      8462.0       88494          25362          8462              -1   \n",
       "2     11391.0           0           1752         11391              18   \n",
       "3     23629.0        3285          14984         23629               9   \n",
       "4     23698.0       58648          24295         23698              21   \n",
       "\n",
       "   is_banked  score assessment_type  date  weight  id_course  \n",
       "0          0     60             TMA    19    10.0  AAA-2014J  \n",
       "1          1     93             TMA    20     5.0  DDD-2014J  \n",
       "2          0     78             TMA    19    10.0  AAA-2013J  \n",
       "3          0     67             TMA    19     5.0  BBB-2013B  \n",
       "4          0     78             CMA    18     2.0  CCC-2014J  "
      ]
     },
     "execution_count": 3,
     "metadata": {},
     "output_type": "execute_result"
    }
   ],
   "source": [
    "filepath = \"../datasets/OULAD.xlsx\"\n",
    "\n",
    "df = pd.read_excel(filepath)\n",
    "df.head()"
   ]
  },
  {
   "cell_type": "code",
   "execution_count": 4,
   "metadata": {},
   "outputs": [
    {
     "data": {
      "text/html": [
       "<div>\n",
       "<style>\n",
       "    .dataframe thead tr:only-child th {\n",
       "        text-align: right;\n",
       "    }\n",
       "\n",
       "    .dataframe thead th {\n",
       "        text-align: left;\n",
       "    }\n",
       "\n",
       "    .dataframe tbody tr th {\n",
       "        vertical-align: top;\n",
       "    }\n",
       "</style>\n",
       "<table border=\"1\" class=\"dataframe\">\n",
       "  <thead>\n",
       "    <tr style=\"text-align: right;\">\n",
       "      <th></th>\n",
       "      <th>date_submitted</th>\n",
       "      <th>assessment_type</th>\n",
       "      <th>weight</th>\n",
       "      <th>date_submitted</th>\n",
       "      <th>score</th>\n",
       "    </tr>\n",
       "  </thead>\n",
       "  <tbody>\n",
       "    <tr>\n",
       "      <th>0</th>\n",
       "      <td>17</td>\n",
       "      <td>TMA</td>\n",
       "      <td>10.0</td>\n",
       "      <td>17</td>\n",
       "      <td>60</td>\n",
       "    </tr>\n",
       "    <tr>\n",
       "      <th>1</th>\n",
       "      <td>-1</td>\n",
       "      <td>TMA</td>\n",
       "      <td>5.0</td>\n",
       "      <td>-1</td>\n",
       "      <td>93</td>\n",
       "    </tr>\n",
       "    <tr>\n",
       "      <th>2</th>\n",
       "      <td>18</td>\n",
       "      <td>TMA</td>\n",
       "      <td>10.0</td>\n",
       "      <td>18</td>\n",
       "      <td>78</td>\n",
       "    </tr>\n",
       "    <tr>\n",
       "      <th>3</th>\n",
       "      <td>9</td>\n",
       "      <td>TMA</td>\n",
       "      <td>5.0</td>\n",
       "      <td>9</td>\n",
       "      <td>67</td>\n",
       "    </tr>\n",
       "    <tr>\n",
       "      <th>4</th>\n",
       "      <td>21</td>\n",
       "      <td>CMA</td>\n",
       "      <td>2.0</td>\n",
       "      <td>21</td>\n",
       "      <td>78</td>\n",
       "    </tr>\n",
       "  </tbody>\n",
       "</table>\n",
       "</div>"
      ],
      "text/plain": [
       "   date_submitted assessment_type  weight  date_submitted  score\n",
       "0              17             TMA    10.0              17     60\n",
       "1              -1             TMA     5.0              -1     93\n",
       "2              18             TMA    10.0              18     78\n",
       "3               9             TMA     5.0               9     67\n",
       "4              21             CMA     2.0              21     78"
      ]
     },
     "execution_count": 4,
     "metadata": {},
     "output_type": "execute_result"
    }
   ],
   "source": [
    "#create a dataframe with columns to use in the model\n",
    "modeldf = df[['date_submitted', 'assessment_type', 'weight', 'date_submitted', 'score']]\n",
    "modeldf.head()"
   ]
  },
  {
   "cell_type": "code",
   "execution_count": 5,
   "metadata": {},
   "outputs": [
    {
     "name": "stderr",
     "output_type": "stream",
     "text": [
      "C:\\ProgramData\\Anaconda3\\lib\\site-packages\\ipykernel_launcher.py:1: SettingWithCopyWarning: \n",
      "A value is trying to be set on a copy of a slice from a DataFrame.\n",
      "Try using .loc[row_indexer,col_indexer] = value instead\n",
      "\n",
      "See the caveats in the documentation: http://pandas.pydata.org/pandas-docs/stable/indexing.html#indexing-view-versus-copy\n",
      "  \"\"\"Entry point for launching an IPython kernel.\n"
     ]
    },
    {
     "data": {
      "text/html": [
       "<div>\n",
       "<style>\n",
       "    .dataframe thead tr:only-child th {\n",
       "        text-align: right;\n",
       "    }\n",
       "\n",
       "    .dataframe thead th {\n",
       "        text-align: left;\n",
       "    }\n",
       "\n",
       "    .dataframe tbody tr th {\n",
       "        vertical-align: top;\n",
       "    }\n",
       "</style>\n",
       "<table border=\"1\" class=\"dataframe\">\n",
       "  <thead>\n",
       "    <tr style=\"text-align: right;\">\n",
       "      <th></th>\n",
       "      <th>date_submitted</th>\n",
       "      <th>assessment_type</th>\n",
       "      <th>weight</th>\n",
       "      <th>date_submitted</th>\n",
       "      <th>score</th>\n",
       "    </tr>\n",
       "  </thead>\n",
       "  <tbody>\n",
       "    <tr>\n",
       "      <th>0</th>\n",
       "      <td>17</td>\n",
       "      <td>0</td>\n",
       "      <td>10.0</td>\n",
       "      <td>17</td>\n",
       "      <td>60</td>\n",
       "    </tr>\n",
       "    <tr>\n",
       "      <th>1</th>\n",
       "      <td>-1</td>\n",
       "      <td>0</td>\n",
       "      <td>5.0</td>\n",
       "      <td>-1</td>\n",
       "      <td>93</td>\n",
       "    </tr>\n",
       "    <tr>\n",
       "      <th>2</th>\n",
       "      <td>18</td>\n",
       "      <td>0</td>\n",
       "      <td>10.0</td>\n",
       "      <td>18</td>\n",
       "      <td>78</td>\n",
       "    </tr>\n",
       "    <tr>\n",
       "      <th>3</th>\n",
       "      <td>9</td>\n",
       "      <td>0</td>\n",
       "      <td>5.0</td>\n",
       "      <td>9</td>\n",
       "      <td>67</td>\n",
       "    </tr>\n",
       "    <tr>\n",
       "      <th>4</th>\n",
       "      <td>21</td>\n",
       "      <td>1</td>\n",
       "      <td>2.0</td>\n",
       "      <td>21</td>\n",
       "      <td>78</td>\n",
       "    </tr>\n",
       "  </tbody>\n",
       "</table>\n",
       "</div>"
      ],
      "text/plain": [
       "   date_submitted  assessment_type  weight  date_submitted  score\n",
       "0              17                0    10.0              17     60\n",
       "1              -1                0     5.0              -1     93\n",
       "2              18                0    10.0              18     78\n",
       "3               9                0     5.0               9     67\n",
       "4              21                1     2.0              21     78"
      ]
     },
     "execution_count": 5,
     "metadata": {},
     "output_type": "execute_result"
    }
   ],
   "source": [
    "modeldf['assessment_type'] = modeldf['assessment_type'].map({'TMA':0, 'CMA':1, 'Exam' :2})\n",
    "modeldf.head()"
   ]
  },
  {
   "cell_type": "code",
   "execution_count": 6,
   "metadata": {},
   "outputs": [
    {
     "data": {
      "text/html": [
       "<div>\n",
       "<style>\n",
       "    .dataframe thead tr:only-child th {\n",
       "        text-align: right;\n",
       "    }\n",
       "\n",
       "    .dataframe thead th {\n",
       "        text-align: left;\n",
       "    }\n",
       "\n",
       "    .dataframe tbody tr th {\n",
       "        vertical-align: top;\n",
       "    }\n",
       "</style>\n",
       "<table border=\"1\" class=\"dataframe\">\n",
       "  <thead>\n",
       "    <tr style=\"text-align: right;\">\n",
       "      <th></th>\n",
       "      <th>date_submitted</th>\n",
       "      <th>assessment_type</th>\n",
       "      <th>weight</th>\n",
       "      <th>date_submitted</th>\n",
       "      <th>score</th>\n",
       "    </tr>\n",
       "  </thead>\n",
       "  <tbody>\n",
       "    <tr>\n",
       "      <th>date_submitted</th>\n",
       "      <td>1.000000</td>\n",
       "      <td>-0.107362</td>\n",
       "      <td>-0.070764</td>\n",
       "      <td>1.000000</td>\n",
       "      <td>-0.063105</td>\n",
       "    </tr>\n",
       "    <tr>\n",
       "      <th>assessment_type</th>\n",
       "      <td>-0.107362</td>\n",
       "      <td>1.000000</td>\n",
       "      <td>-0.428529</td>\n",
       "      <td>-0.107362</td>\n",
       "      <td>-0.009479</td>\n",
       "    </tr>\n",
       "    <tr>\n",
       "      <th>weight</th>\n",
       "      <td>-0.070764</td>\n",
       "      <td>-0.428529</td>\n",
       "      <td>1.000000</td>\n",
       "      <td>-0.070764</td>\n",
       "      <td>0.192690</td>\n",
       "    </tr>\n",
       "    <tr>\n",
       "      <th>date_submitted</th>\n",
       "      <td>1.000000</td>\n",
       "      <td>-0.107362</td>\n",
       "      <td>-0.070764</td>\n",
       "      <td>1.000000</td>\n",
       "      <td>-0.063105</td>\n",
       "    </tr>\n",
       "    <tr>\n",
       "      <th>score</th>\n",
       "      <td>-0.063105</td>\n",
       "      <td>-0.009479</td>\n",
       "      <td>0.192690</td>\n",
       "      <td>-0.063105</td>\n",
       "      <td>1.000000</td>\n",
       "    </tr>\n",
       "  </tbody>\n",
       "</table>\n",
       "</div>"
      ],
      "text/plain": [
       "                 date_submitted  assessment_type    weight  date_submitted  \\\n",
       "date_submitted         1.000000        -0.107362 -0.070764        1.000000   \n",
       "assessment_type       -0.107362         1.000000 -0.428529       -0.107362   \n",
       "weight                -0.070764        -0.428529  1.000000       -0.070764   \n",
       "date_submitted         1.000000        -0.107362 -0.070764        1.000000   \n",
       "score                 -0.063105        -0.009479  0.192690       -0.063105   \n",
       "\n",
       "                    score  \n",
       "date_submitted  -0.063105  \n",
       "assessment_type -0.009479  \n",
       "weight           0.192690  \n",
       "date_submitted  -0.063105  \n",
       "score            1.000000  "
      ]
     },
     "execution_count": 6,
     "metadata": {},
     "output_type": "execute_result"
    }
   ],
   "source": [
    "modeldf.corr()"
   ]
  },
  {
   "cell_type": "code",
   "execution_count": 7,
   "metadata": {},
   "outputs": [
    {
     "data": {
      "text/plain": [
       "date_submitted       int64\n",
       "assessment_type      int64\n",
       "weight             float64\n",
       "date_submitted       int64\n",
       "score                int64\n",
       "dtype: object"
      ]
     },
     "execution_count": 7,
     "metadata": {},
     "output_type": "execute_result"
    }
   ],
   "source": [
    "modeldf.dtypes"
   ]
  },
  {
   "cell_type": "code",
   "execution_count": 8,
   "metadata": {},
   "outputs": [
    {
     "data": {
      "text/plain": [
       "date_submitted     0\n",
       "assessment_type    0\n",
       "weight             0\n",
       "date_submitted     0\n",
       "score              0\n",
       "dtype: int64"
      ]
     },
     "execution_count": 8,
     "metadata": {},
     "output_type": "execute_result"
    }
   ],
   "source": [
    "modeldf.isnull().sum()"
   ]
  },
  {
   "cell_type": "code",
   "execution_count": 9,
   "metadata": {},
   "outputs": [
    {
     "data": {
      "text/plain": [
       "date_submitted     23409\n",
       "assessment_type    23409\n",
       "weight             23409\n",
       "date_submitted     23409\n",
       "score              23409\n",
       "dtype: int64"
      ]
     },
     "execution_count": 9,
     "metadata": {},
     "output_type": "execute_result"
    }
   ],
   "source": [
    "modeldf.count()"
   ]
  },
  {
   "cell_type": "code",
   "execution_count": 10,
   "metadata": {},
   "outputs": [
    {
     "data": {
      "text/plain": [
       "(23409, 5)"
      ]
     },
     "execution_count": 10,
     "metadata": {},
     "output_type": "execute_result"
    }
   ],
   "source": [
    "modeldf.shape"
   ]
  },
  {
   "cell_type": "markdown",
   "metadata": {},
   "source": [
    "def f(row):\n",
    "    if row['score'] >= row['B']:\n",
    "        val = 0\n",
    "    elfi row['A'] > row['B']:\n",
    "        val = 1\n",
    "    else:\n",
    "        val = -1\n",
    "    return val"
   ]
  },
  {
   "cell_type": "markdown",
   "metadata": {},
   "source": [
    "def f(row):\n",
    "    if row['score'] >= 0.95:\n",
    "        val = 4\n",
    "    elif row['score'] >=0.90:\n",
    "        val = 3\n",
    "    elif row['score'] > 0.80:\n",
    "        val = 2\n",
    "    else:\n",
    "        val = -1\n",
    "    return val"
   ]
  },
  {
   "cell_type": "markdown",
   "metadata": {},
   "source": [
    "def score_to_numeric(x):\n",
    "    if x > 0.5:\n",
    "        return 1\n",
    "    if x < 0.5:\n",
    "        return 0\n",
    "    \n",
    "modeldf['score'] = modeldf['score'].apply(score_to_numeric)\n",
    "modeldf.head()"
   ]
  },
  {
   "cell_type": "code",
   "execution_count": 11,
   "metadata": {},
   "outputs": [
    {
     "data": {
      "text/plain": [
       "Index(['date_submitted', 'assessment_type', 'weight', 'date_submitted',\n",
       "       'score'],\n",
       "      dtype='object')"
      ]
     },
     "execution_count": 11,
     "metadata": {},
     "output_type": "execute_result"
    }
   ],
   "source": [
    "modeldf.columns"
   ]
  },
  {
   "cell_type": "code",
   "execution_count": 12,
   "metadata": {
    "collapsed": true
   },
   "outputs": [],
   "source": [
    "y = modeldf['score']"
   ]
  },
  {
   "cell_type": "code",
   "execution_count": 13,
   "metadata": {
    "collapsed": true
   },
   "outputs": [],
   "source": [
    "X = modeldf.drop(['score'], axis=1)"
   ]
  },
  {
   "cell_type": "code",
   "execution_count": null,
   "metadata": {
    "collapsed": true
   },
   "outputs": [],
   "source": []
  },
  {
   "cell_type": "code",
   "execution_count": 14,
   "metadata": {
    "collapsed": true
   },
   "outputs": [],
   "source": [
    "#80% for training data, 20% for test data\n",
    "X_train, X_test, y_train, y_test = train_test_split(X, y, test_size=0.2, random_state=90)"
   ]
  },
  {
   "cell_type": "code",
   "execution_count": 15,
   "metadata": {
    "collapsed": true
   },
   "outputs": [],
   "source": [
    "model = tree.DecisionTreeClassifier()"
   ]
  },
  {
   "cell_type": "code",
   "execution_count": 16,
   "metadata": {},
   "outputs": [
    {
     "data": {
      "text/plain": [
       "DecisionTreeClassifier(class_weight=None, criterion='gini', max_depth=None,\n",
       "            max_features=None, max_leaf_nodes=None,\n",
       "            min_impurity_decrease=0.0, min_impurity_split=None,\n",
       "            min_samples_leaf=1, min_samples_split=2,\n",
       "            min_weight_fraction_leaf=0.0, presort=False, random_state=None,\n",
       "            splitter='best')"
      ]
     },
     "execution_count": 16,
     "metadata": {},
     "output_type": "execute_result"
    }
   ],
   "source": [
    "model.fit(X_train, y_train)"
   ]
  },
  {
   "cell_type": "code",
   "execution_count": 17,
   "metadata": {
    "collapsed": true
   },
   "outputs": [],
   "source": [
    "y_predict = model.predict(X_test)"
   ]
  },
  {
   "cell_type": "code",
   "execution_count": 18,
   "metadata": {},
   "outputs": [
    {
     "data": {
      "text/plain": [
       "0.11469457496796241"
      ]
     },
     "execution_count": 18,
     "metadata": {},
     "output_type": "execute_result"
    }
   ],
   "source": [
    "accuracy_score(y_test, y_predict)"
   ]
  },
  {
   "cell_type": "markdown",
   "metadata": {},
   "source": [
    "pd.DataFrame(\n",
    "    confusion_matrix(y_test, y_predict),\n",
    "    columns=['Predicted Not Pass', 'Predicted Pass'],\n",
    "    index=['True Not Pass', 'True Pass']\n",
    ")"
   ]
  },
  {
   "cell_type": "code",
   "execution_count": 20,
   "metadata": {
    "collapsed": true
   },
   "outputs": [],
   "source": [
    "#Method 1: manual calculation of z-scores for 'Glucose' column\n",
    "\n",
    "#mean for the column\n",
    "mean = modeldf['score'].mean()\n",
    "\n",
    "#standard deviation of the column\n",
    "std = modeldf['score'].std()\n",
    "\n",
    "#each value in column minus the mean and then divide by the standard deviation\n",
    "score_z_manual = (modeldf['score'] - mean)/std"
   ]
  },
  {
   "cell_type": "code",
   "execution_count": 21,
   "metadata": {},
   "outputs": [
    {
     "data": {
      "text/plain": [
       "(72.67281814686659, 21.502838351434388)"
      ]
     },
     "execution_count": 21,
     "metadata": {},
     "output_type": "execute_result"
    }
   ],
   "source": [
    "#values for mean and standard deviation of 'Glucose column'\n",
    "mean, std"
   ]
  },
  {
   "cell_type": "code",
   "execution_count": 22,
   "metadata": {},
   "outputs": [
    {
     "data": {
      "text/plain": [
       "<matplotlib.axes._subplots.AxesSubplot at 0x291c1414828>"
      ]
     },
     "execution_count": 22,
     "metadata": {},
     "output_type": "execute_result"
    },
    {
     "data": {
      "image/png": "[encoded data removed]",
      "text/plain": [
       "<matplotlib.figure.Figure at 0x291c14a9b38>"
      ]
     },
     "metadata": {},
     "output_type": "display_data"
    }
   ],
   "source": [
    "#BEFORE: frequency count plot of 'Glucose' column\n",
    "modeldf['score'].hist()"
   ]
  },
  {
   "cell_type": "code",
   "execution_count": null,
   "metadata": {
    "collapsed": true
   },
   "outputs": [],
   "source": []
  },
  {
   "cell_type": "code",
   "execution_count": null,
   "metadata": {
    "collapsed": true
   },
   "outputs": [],
   "source": []
  },
  {
   "cell_type": "code",
   "execution_count": null,
   "metadata": {
    "collapsed": true
   },
   "outputs": [],
   "source": []
  },
  {
   "cell_type": "code",
   "execution_count": null,
   "metadata": {
    "collapsed": true
   },
   "outputs": [],
   "source": []
  },
  {
   "cell_type": "code",
   "execution_count": null,
   "metadata": {
    "collapsed": true
   },
   "outputs": [],
   "source": []
  },
  {
   "cell_type": "code",
   "execution_count": null,
   "metadata": {
    "collapsed": true
   },
   "outputs": [],
   "source": []
  },
  {
   "cell_type": "code",
   "execution_count": null,
   "metadata": {
    "collapsed": true
   },
   "outputs": [],
   "source": []
  },
  {
   "cell_type": "code",
   "execution_count": 23,
   "metadata": {
    "collapsed": true
   },
   "outputs": [],
   "source": [
    "#preprocessing functions will be used to standardize/normalize data\n",
    "from sklearn import preprocessing\n",
    "from sklearn.preprocessing import StandardScaler\n",
    "from sklearn.preprocessing import MinMaxScaler\n",
    "\n",
    "%matplotlib inline"
   ]
  },
  {
   "cell_type": "code",
   "execution_count": null,
   "metadata": {
    "collapsed": true
   },
   "outputs": [],
   "source": []
  },
  {
   "cell_type": "code",
   "execution_count": null,
   "metadata": {
    "collapsed": true
   },
   "outputs": [],
   "source": []
  },
  {
   "cell_type": "code",
   "execution_count": 24,
   "metadata": {
    "collapsed": true
   },
   "outputs": [],
   "source": [
    "#Method 2: use scikit-learn to calculate z-scores\n",
    "\n",
    "#set StandardScale function to a variable (easier to type)\n",
    "#scaler will use z-score formula on the column\n",
    "scaler = StandardScaler()\n",
    "\n",
    "#fit_transform calculates the mean and std, and replaces any missing values w/ mean if needed\n",
    "#'Glucose' is in double set of square brackets in order to make it a dataframe\n",
    "score_zscore = scaler.fit_transform(modeldf[['score']])"
   ]
  },
  {
   "cell_type": "code",
   "execution_count": null,
   "metadata": {
    "collapsed": true
   },
   "outputs": [],
   "source": []
  },
  {
   "cell_type": "code",
   "execution_count": 25,
   "metadata": {},
   "outputs": [
    {
     "data": {
      "text/plain": [
       "([array([ 1173.,  1052.,   633.,  7500.,  8046.,  2149.,   913.,  1432.,\n",
       "           230.,   281.]),\n",
       "  array([  2.34060000e+04,   0.00000000e+00,   0.00000000e+00,\n",
       "           0.00000000e+00,   3.00000000e+00,   0.00000000e+00,\n",
       "           0.00000000e+00,   0.00000000e+00,   0.00000000e+00,\n",
       "           0.00000000e+00]),\n",
       "  array([  7.62800000e+03,   4.86700000e+03,   0.00000000e+00,\n",
       "           1.62000000e+03,   3.01100000e+03,   1.00000000e+01,\n",
       "           5.42500000e+03,   7.18000000e+02,   1.00000000e+00,\n",
       "           1.29000000e+02]),\n",
       "  array([ 1173.,  1052.,   633.,  7500.,  8046.,  2149.,   913.,  1432.,\n",
       "           230.,   281.]),\n",
       "  array([  2.60000000e+03,   3.40000000e+01,   8.00000000e+00,\n",
       "           3.60000000e+01,   1.94000000e+02,   7.05000000e+02,\n",
       "           1.98300000e+03,   4.09000000e+03,   8.15700000e+03,\n",
       "           5.60200000e+03])],\n",
       " array([   0. ,   15.7,   31.4,   47.1,   62.8,   78.5,   94.2,  109.9,\n",
       "         125.6,  141.3,  157. ]),\n",
       " <a list of 5 Lists of Patches objects>)"
      ]
     },
     "execution_count": 25,
     "metadata": {},
     "output_type": "execute_result"
    },
    {
     "data": {
      "image/png": "[encoded data removed]",
      "text/plain": [
       "<matplotlib.figure.Figure at 0x291c1097780>"
      ]
     },
     "metadata": {},
     "output_type": "display_data"
    }
   ],
   "source": [
    "plt.hist(modeldf)"
   ]
  },
  {
   "cell_type": "markdown",
   "metadata": {},
   "source": [
    "modeldf = pd.get_dummies(data=modeldf, columns=['score'])\n",
    "modeldf.head()"
   ]
  },
  {
   "cell_type": "markdown",
   "metadata": {},
   "source": [
    "plt.hist(modeldf)"
   ]
  },
  {
   "cell_type": "code",
   "execution_count": 26,
   "metadata": {},
   "outputs": [
    {
     "data": {
      "text/plain": [
       "([array([  3.39572155e-03,   2.98758194e-03,   2.99302381e-03,\n",
       "           2.73181446e-03,   1.41488398e-04,   3.30320991e-03,\n",
       "           7.66758280e-03,   3.31463782e-02,   2.96690287e-02,\n",
       "           1.41161886e-02,   9.57767618e-03,   2.11688411e-03,\n",
       "           2.14953528e-03,   2.81888424e-03,   6.54655934e-03,\n",
       "           1.24618628e-03,   2.88418658e-04,   9.63209479e-04,\n",
       "           1.43120957e-03,   9.79535064e-05]),\n",
       "  array([  0.00000000e+00,   1.27372209e-01,   0.00000000e+00,\n",
       "           0.00000000e+00,   0.00000000e+00,   0.00000000e+00,\n",
       "           0.00000000e+00,   0.00000000e+00,   1.63255844e-05,\n",
       "           0.00000000e+00,   0.00000000e+00,   0.00000000e+00,\n",
       "           0.00000000e+00,   0.00000000e+00,   0.00000000e+00,\n",
       "           0.00000000e+00,   0.00000000e+00,   0.00000000e+00,\n",
       "           0.00000000e+00,   0.00000000e+00]),\n",
       "  array([  0.00000000e+00,   4.15105193e-02,   0.00000000e+00,\n",
       "           2.64855397e-02,   0.00000000e+00,   0.00000000e+00,\n",
       "           8.35325735e-03,   4.62558225e-04,   1.61024681e-02,\n",
       "           2.82976796e-04,   5.44186146e-05,   0.00000000e+00,\n",
       "           2.95220984e-02,   0.00000000e+00,   0.00000000e+00,\n",
       "           3.90725653e-03,   0.00000000e+00,   5.44186146e-06,\n",
       "           7.02000129e-04,   0.00000000e+00]),\n",
       "  array([  3.39572155e-03,   2.98758194e-03,   2.99302381e-03,\n",
       "           2.73181446e-03,   1.41488398e-04,   3.30320991e-03,\n",
       "           7.66758280e-03,   3.31463782e-02,   2.96690287e-02,\n",
       "           1.41161886e-02,   9.57767618e-03,   2.11688411e-03,\n",
       "           2.14953528e-03,   2.81888424e-03,   6.54655934e-03,\n",
       "           1.24618628e-03,   2.88418658e-04,   9.63209479e-04,\n",
       "           1.43120957e-03,   9.79535064e-05]),\n",
       "  array([  0.00000000e+00,   1.41488398e-02,   1.68697705e-04,\n",
       "           1.63255844e-05,   0.00000000e+00,   4.35348917e-05,\n",
       "           8.70697834e-05,   1.08837229e-04,   7.50976882e-04,\n",
       "           3.04744242e-04,   1.52372121e-03,   2.31279112e-03,\n",
       "           3.08009359e-03,   7.71111770e-03,   9.79535064e-03,\n",
       "           1.24618628e-02,   2.22898646e-02,   2.20993994e-02,\n",
       "           1.96505617e-02,   1.08347462e-02])],\n",
       " array([   0.  ,    7.85,   15.7 ,   23.55,   31.4 ,   39.25,   47.1 ,\n",
       "          54.95,   62.8 ,   70.65,   78.5 ,   86.35,   94.2 ,  102.05,\n",
       "         109.9 ,  117.75,  125.6 ,  133.45,  141.3 ,  149.15,  157.  ]),\n",
       " <a list of 5 Lists of Patches objects>)"
      ]
     },
     "execution_count": 26,
     "metadata": {},
     "output_type": "execute_result"
    },
    {
     "data": {
      "image/png": "[encoded data removed]",
      "text/plain": [
       "<matplotlib.figure.Figure at 0x291c15cf5f8>"
      ]
     },
     "metadata": {},
     "output_type": "display_data"
    }
   ],
   "source": [
    "plt.hist(modeldf, normed=True,alpha=0.5,bins=20)"
   ]
  },
  {
   "cell_type": "code",
   "execution_count": 27,
   "metadata": {
    "collapsed": true
   },
   "outputs": [],
   "source": [
    "plt.show()"
   ]
  },
  {
   "cell_type": "code",
   "execution_count": 28,
   "metadata": {},
   "outputs": [
    {
     "data": {
      "text/plain": [
       "<matplotlib.axes._subplots.AxesSubplot at 0x291c1f24080>"
      ]
     },
     "execution_count": 28,
     "metadata": {},
     "output_type": "execute_result"
    },
    {
     "data": {
      "image/png": "[encoded data removed]",
      "text/plain": [
       "<matplotlib.figure.Figure at 0x291c10907b8>"
      ]
     },
     "metadata": {},
     "output_type": "display_data"
    }
   ],
   "source": [
    "sns.heatmap(modeldf)"
   ]
  },
  {
   "cell_type": "code",
   "execution_count": 29,
   "metadata": {},
   "outputs": [
    {
     "data": {
      "text/plain": [
       "array([[<matplotlib.axes._subplots.AxesSubplot object at 0x00000291C20AC160>,\n",
       "        <matplotlib.axes._subplots.AxesSubplot object at 0x00000291C215D5C0>],\n",
       "       [<matplotlib.axes._subplots.AxesSubplot object at 0x00000291C21944E0>,\n",
       "        <matplotlib.axes._subplots.AxesSubplot object at 0x00000291C241B518>],\n",
       "       [<matplotlib.axes._subplots.AxesSubplot object at 0x00000291C2455390>,\n",
       "        <matplotlib.axes._subplots.AxesSubplot object at 0x00000291C24553C8>]], dtype=object)"
      ]
     },
     "execution_count": 29,
     "metadata": {},
     "output_type": "execute_result"
    },
    {
     "data": {
      "image/png": "[encoded data removed]",
      "text/plain": [
       "<matplotlib.figure.Figure at 0x291c20fa550>"
      ]
     },
     "metadata": {},
     "output_type": "display_data"
    }
   ],
   "source": [
    "#show z-score standardization for all columns\n",
    "\n",
    "#list to hold column names\n",
    "colnames = list(modeldf.columns)\n",
    "\n",
    "#calculate z-scores\n",
    "zscore_df = pd.DataFrame(scaler.fit_transform(modeldf), columns = colnames)\n",
    "\n",
    "#plot frequency distribution with same scale range\n",
    "zscore_df.hist(figsize=(10,10), sharex=True)"
   ]
  },
  {
   "cell_type": "code",
   "execution_count": null,
   "metadata": {
    "collapsed": true
   },
   "outputs": [],
   "source": []
  }
 ],
 "metadata": {
  "kernelspec": {
   "display_name": "Python 3",
   "language": "python",
   "name": "python3"
  },
  "language_info": {
   "codemirror_mode": {
    "name": "ipython",
    "version": 3
   },
   "file_extension": ".py",
   "mimetype": "text/x-python",
   "name": "python",
   "nbconvert_exporter": "python",
   "pygments_lexer": "ipython3",
   "version": "3.6.3"
  }
 },
 "nbformat": 4,
 "nbformat_minor": 2
}
